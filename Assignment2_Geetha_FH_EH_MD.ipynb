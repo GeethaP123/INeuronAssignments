{
 "cells": [
  {
   "cell_type": "markdown",
   "metadata": {},
   "source": [
    "1. Writing text to file and reading from file.After reading the file the cursor will be at the EOF so need to set the cursot at starting position then the object will be able to read from starting."
   ]
  },
  {
   "cell_type": "code",
   "execution_count": 16,
   "metadata": {},
   "outputs": [
    {
     "data": {
      "text/plain": [
       "''"
      ]
     },
     "execution_count": 16,
     "metadata": {},
     "output_type": "execute_result"
    }
   ],
   "source": [
    "f=open(\"SampleFile.txt\",'w+')\n",
    "f.write(\"Hello RamLaxman, A new file has created with this text\")\n",
    "f.read()"
   ]
  },
  {
   "cell_type": "code",
   "execution_count": 17,
   "metadata": {},
   "outputs": [
    {
     "data": {
      "text/plain": [
       "'Hello RamLaxman, A new file has created with this text'"
      ]
     },
     "execution_count": 17,
     "metadata": {},
     "output_type": "execute_result"
    }
   ],
   "source": [
    "f=open(\"SampleFile.txt\",'w+')\n",
    "f.write(\"Hello RamLaxman, A new file has created with this text\")\n",
    "f.seek(0)\n",
    "f.read()"
   ]
  },
  {
   "cell_type": "markdown",
   "metadata": {},
   "source": [
    "If want read from specific point of text then we can set the cursor with index"
   ]
  },
  {
   "cell_type": "code",
   "execution_count": 18,
   "metadata": {},
   "outputs": [
    {
     "data": {
      "text/plain": [
       "' RamLaxman, A new file has created with this text'"
      ]
     },
     "execution_count": 18,
     "metadata": {},
     "output_type": "execute_result"
    }
   ],
   "source": [
    "f.seek(5)\n",
    "f.read()"
   ]
  },
  {
   "cell_type": "markdown",
   "metadata": {},
   "source": [
    "Copy text from one SampleFile.txt to NewSampleFile.txt file and delete new file the file. If the file is open then we can not delete. So, need to close then have to delete. Otherwise it will throw an error saying the file is using by other processer"
   ]
  },
  {
   "cell_type": "code",
   "execution_count": 32,
   "metadata": {},
   "outputs": [
    {
     "name": "stdout",
     "output_type": "stream",
     "text": [
      "File Copy Done\n"
     ]
    },
    {
     "data": {
      "text/plain": [
       "'Hello RamLaxman, A new file has created with this text'"
      ]
     },
     "execution_count": 32,
     "metadata": {},
     "output_type": "execute_result"
    }
   ],
   "source": [
    "import shutil\n",
    "import os\n",
    "\n",
    "shutil.copyfile('SampleFile.txt', 'NewSampleFile.txt')\n",
    "print(\"File Copy Done\")\n",
    "f=open('NewSampleFile.txt')\n",
    "f.read()\n",
    "#f.close()\n",
    "#shutil.os.remove('NewSampleFile.txt')"
   ]
  },
  {
   "cell_type": "code",
   "execution_count": 35,
   "metadata": {},
   "outputs": [
    {
     "name": "stdout",
     "output_type": "stream",
     "text": [
      "File Copy Done\n"
     ]
    },
    {
     "ename": "PermissionError",
     "evalue": "[WinError 32] The process cannot access the file because it is being used by another process: 'NewSampleFile.txt'",
     "output_type": "error",
     "traceback": [
      "\u001b[1;31m---------------------------------------------------------------------------\u001b[0m",
      "\u001b[1;31mPermissionError\u001b[0m                           Traceback (most recent call last)",
      "\u001b[1;32m<ipython-input-35-e2b996f364a5>\u001b[0m in \u001b[0;36m<module>\u001b[1;34m\u001b[0m\n\u001b[0;32m      7\u001b[0m \u001b[0mf\u001b[0m\u001b[1;33m.\u001b[0m\u001b[0mread\u001b[0m\u001b[1;33m(\u001b[0m\u001b[1;33m)\u001b[0m\u001b[1;33m\u001b[0m\u001b[1;33m\u001b[0m\u001b[0m\n\u001b[0;32m      8\u001b[0m \u001b[1;31m#f.close()\u001b[0m\u001b[1;33m\u001b[0m\u001b[1;33m\u001b[0m\u001b[1;33m\u001b[0m\u001b[0m\n\u001b[1;32m----> 9\u001b[1;33m \u001b[0mshutil\u001b[0m\u001b[1;33m.\u001b[0m\u001b[0mos\u001b[0m\u001b[1;33m.\u001b[0m\u001b[0mremove\u001b[0m\u001b[1;33m(\u001b[0m\u001b[1;34m'NewSampleFile.txt'\u001b[0m\u001b[1;33m)\u001b[0m\u001b[1;33m\u001b[0m\u001b[1;33m\u001b[0m\u001b[0m\n\u001b[0m\u001b[0;32m     10\u001b[0m \u001b[0mprint\u001b[0m\u001b[1;33m(\u001b[0m\u001b[1;34m\"File has been deleted\"\u001b[0m\u001b[1;33m)\u001b[0m\u001b[1;33m\u001b[0m\u001b[1;33m\u001b[0m\u001b[0m\n",
      "\u001b[1;31mPermissionError\u001b[0m: [WinError 32] The process cannot access the file because it is being used by another process: 'NewSampleFile.txt'"
     ]
    }
   ],
   "source": [
    "import shutil\n",
    "import os\n",
    "\n",
    "shutil.copyfile('SampleFile.txt', 'NewSampleFile.txt')\n",
    "print(\"File Copy Done\")\n",
    "f=open('NewSampleFile.txt')\n",
    "f.read()\n",
    "#f.close()\n",
    "shutil.os.remove('NewSampleFile.txt')\n",
    "print(\"File has been deleted\")"
   ]
  },
  {
   "cell_type": "code",
   "execution_count": 36,
   "metadata": {},
   "outputs": [
    {
     "name": "stdout",
     "output_type": "stream",
     "text": [
      "File Copy Done\n",
      "File has been deleted\n"
     ]
    }
   ],
   "source": [
    "import shutil\n",
    "import os\n",
    "\n",
    "shutil.copyfile('SampleFile.txt', 'NewSampleFile.txt')\n",
    "print(\"File Copy Done\")\n",
    "f=open('NewSampleFile.txt')\n",
    "f.read()\n",
    "f.close()\n",
    "shutil.os.remove('NewSampleFile.txt')\n",
    "print(\"File has been deleted\")"
   ]
  },
  {
   "cell_type": "markdown",
   "metadata": {},
   "source": [
    "Exception Handling"
   ]
  },
  {
   "cell_type": "code",
   "execution_count": 66,
   "metadata": {},
   "outputs": [
    {
     "name": "stdout",
     "output_type": "stream",
     "text": [
      "Error: can't find file or read data [Errno 2] No such file or directory: 'newfile1.txt'\n",
      "Going to close the file\n"
     ]
    }
   ],
   "source": [
    "try:\n",
    "   file = open(\"newfile1.txt\",\"r\")\n",
    "   file.read() \n",
    "   print(\"Printing file even after exception occurs\")\n",
    "except FileNotFoundError as FNFE:\n",
    "   print(\"Error: can't find file or read data\",FNFE)  \n",
    "finally:\n",
    "      print(\"Going to close the file\")\n",
    "      file.close()\n"
   ]
  },
  {
   "cell_type": "code",
   "execution_count": null,
   "metadata": {},
   "outputs": [],
   "source": [
    "Creating User defined Exception"
   ]
  },
  {
   "cell_type": "code",
   "execution_count": 77,
   "metadata": {},
   "outputs": [
    {
     "name": "stdout",
     "output_type": "stream",
     "text": [
      "A New Exception occured:  6\n"
     ]
    }
   ],
   "source": [
    "class UserDefinedError(Exception):\n",
    "  \n",
    "    # Constructor or Initializer \n",
    "    def __init__(self, value): \n",
    "        self.value = value   \n",
    "  \n",
    "try: \n",
    "    raise(UserDefinedError(3*2)) \n",
    "  \n",
    "# Value of Exception is stored in error \n",
    "except UserDefinedError as error: \n",
    "    print('A New Exception occured: ',error.value) "
   ]
  },
  {
   "cell_type": "markdown",
   "metadata": {},
   "source": [
    "Handling  multiple exceptions"
   ]
  },
  {
   "cell_type": "code",
   "execution_count": 96,
   "metadata": {},
   "outputs": [
    {
     "name": "stdout",
     "output_type": "stream",
     "text": [
      "Please enter a number\n",
      "3\n",
      "<class 'TypeError'> ---- can't multiply sequence by non-int of type 'str'\n"
     ]
    }
   ],
   "source": [
    "import math\n",
    "def square(x):\n",
    "    sq=x*x\n",
    "    return sq\n",
    "\n",
    "try:\n",
    "    y = square(input('Please enter a number\\n'))\n",
    "    print(y)\n",
    "except (Exception, IOError, TypeError) as e:\n",
    "    print(type(e), '----', e)\n",
    "    "
   ]
  },
  {
   "cell_type": "code",
   "execution_count": 112,
   "metadata": {},
   "outputs": [
    {
     "name": "stdout",
     "output_type": "stream",
     "text": [
      "Exception---- <class 'ValueError'> ---- invalid literal for int() with base 10: 'jk'\n"
     ]
    }
   ],
   "source": [
    "\n",
    "try:\n",
    "    # type casting(ValueError) from string to integer\n",
    "    y = int('jk')\n",
    "    print(y)\n",
    "\n",
    "except TypeError as e:\n",
    "    print(\"TypeError----\",type(e), '----', e)    \n",
    "except Exception as e:\n",
    "    print(\"Exception----\",type(e), '----', e)\n",
    "except IOError as e:\n",
    "    print(\"IOError----\",type(e), '----', e)"
   ]
  },
  {
   "cell_type": "code",
   "execution_count": null,
   "metadata": {},
   "outputs": [],
   "source": []
  },
  {
   "cell_type": "code",
   "execution_count": null,
   "metadata": {},
   "outputs": [],
   "source": []
  }
 ],
 "metadata": {
  "kernelspec": {
   "display_name": "Python 3",
   "language": "python",
   "name": "python3"
  },
  "language_info": {
   "codemirror_mode": {
    "name": "ipython",
    "version": 3
   },
   "file_extension": ".py",
   "mimetype": "text/x-python",
   "name": "python",
   "nbconvert_exporter": "python",
   "pygments_lexer": "ipython3",
   "version": "3.7.4"
  }
 },
 "nbformat": 4,
 "nbformat_minor": 2
}
